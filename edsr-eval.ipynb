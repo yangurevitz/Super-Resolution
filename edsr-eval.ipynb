{
 "cells": [
  {
   "cell_type": "code",
   "execution_count": null,
   "metadata": {},
   "outputs": [],
   "source": [
    "import os\n",
    "import matplotlib.pyplot as plt\n",
    "\n",
    "from data import DIV2K\n",
    "from model.edsr import edsr\n",
    "from train import EdsrTrainer\n",
    "\n",
    "%matplotlib inline"
   ]
  },
  {
   "cell_type": "code",
   "execution_count": null,
   "metadata": {},
   "outputs": [],
   "source": [
    "# Number of residual blocks\n",
    "depth = 16\n",
    "\n",
    "numFilters = 64\n",
    "\n",
    "# Super-resolution factor\n",
    "scale = 4\n",
    "\n",
    "# Downgrade operator\n",
    "downgrade = 'bicubic'"
   ]
  },
  {
   "cell_type": "code",
   "execution_count": null,
   "metadata": {},
   "outputs": [],
   "source": [
    "# Number of residual blocks\n",
    "depth = 32\n",
    "\n",
    "numFilters = 256\n",
    "\n",
    "# Super-resolution factor\n",
    "scale = 4\n",
    "\n",
    "# Downgrade operator\n",
    "downgrade = 'bicubic'"
   ]
  },
  {
   "cell_type": "code",
   "execution_count": null,
   "metadata": {},
   "outputs": [],
   "source": [
    "# Location of model weights (needed for demo)\n",
    "weights_path = \"weights/weights-edsr-16-x4-fine-tuned.h5\""
   ]
  },
  {
   "cell_type": "code",
   "execution_count": null,
   "metadata": {},
   "outputs": [],
   "source": [
    "# Location of model weights (needed for demo)\n",
    "weights_path = \"weights/weights-edsr-32-x4-fine-tuned.h5\""
   ]
  },
  {
   "cell_type": "code",
   "execution_count": null,
   "metadata": {},
   "outputs": [],
   "source": [
    "model = edsr(scale=scale, num_res_blocks=depth, num_filters=numFilters)\n",
    "model.load_weights(weights_path)"
   ]
  },
  {
   "cell_type": "code",
   "execution_count": null,
   "metadata": {},
   "outputs": [],
   "source": [
    "from tensorflow.keras.losses import MeanAbsoluteError\n",
    "from tensorflow.keras.metrics import Mean\n",
    "\n",
    "loss = MeanAbsoluteError()\n",
    "\n",
    "loss_mean = Mean()\n",
    "psnr_mean = Mean()\n",
    "psnr_mean2 = Mean()\n",
    "ssim_mean = Mean()"
   ]
  },
  {
   "cell_type": "code",
   "execution_count": null,
   "metadata": {},
   "outputs": [],
   "source": [
    "from model import resolve_single\n",
    "from utils import load_image\n",
    "import numpy as np\n",
    "import tensorflow as tf\n",
    "import math\n",
    "\n",
    "def evaluate(start, end):\n",
    "    base = \".div2k/images/\"\n",
    "    hrPath = base + \"DIV2K_valid_HR/0\"\n",
    "    lrPath = base + \"DIV2K_valid_LR_bicubic/X4/0\"\n",
    "    for i in range(start, end+1):\n",
    "        name = str(800+i)\n",
    "        lr = load_image(lrPath+name+\"x4.png\")\n",
    "        sr = resolve_single(model, lr)\n",
    "        hr = load_image(hrPath+name+\".png\")\n",
    "        psnrValue = tf.image.psnr(hr, sr, max_val=255)\n",
    "        psnr_mean(psnrValue)\n",
    "        sr = tf.convert_to_tensor(sr)\n",
    "        hr = tf.convert_to_tensor(hr)\n",
    "        sr = tf.cast(sr, tf.float32)\n",
    "        hr = tf.cast(hr, tf.float32)\n",
    "        lossValue = loss(hr, sr)\n",
    "        loss_mean(lossValue)\n",
    "        psnr2 = 10 * math.log10(255*255/lossValue)\n",
    "        psnr_mean2(psnr2)\n",
    "        ssimValue = tf.image.ssim(hr, sr, max_val=255)\n",
    "        ssim_mean(ssimValue)\n",
    "        print(i)"
   ]
  },
  {
   "cell_type": "code",
   "execution_count": null,
   "metadata": {},
   "outputs": [],
   "source": [
    "evaluate(1, 100)\n",
    "print(\"MAE = \" + str(loss_mean.result()))\n",
    "print(\"PSNR = \" + str(psnr_mean.result()))\n",
    "print(\"PSNR2 = \" + str(psnr_mean2.result()))\n",
    "print(\"SSIM = \" + str(ssim_mean.result()))"
   ]
  },
  {
   "cell_type": "code",
   "execution_count": null,
   "metadata": {},
   "outputs": [],
   "source": [
    "evaluate(1, 100)\n",
    "print(\"MAE = \" + str(loss_mean.result()))\n",
    "print(\"PSNR = \" + str(psnr_mean.result()))\n",
    "print(\"PSNR2 = \" + str(psnr_mean2.result()))\n",
    "print(\"SSIM = \" + str(ssim_mean.result()))"
   ]
  },
  {
   "cell_type": "code",
   "execution_count": null,
   "metadata": {},
   "outputs": [],
   "source": [
    "from model import resolve_single\n",
    "from utils import load_image\n",
    "import numpy as np\n",
    "from PIL import Image\n",
    "\n",
    "def resolve_and_save(lr_image_path, hr_image_path):\n",
    "    lr = load_image(lr_image_path)\n",
    "    \n",
    "    sr = resolve_single(model, lr)\n",
    "    \n",
    "    sr = np.array(sr)\n",
    "    sr = Image.fromarray(sr)\n",
    "    sr.save(hr_image_path)"
   ]
  },
  {
   "cell_type": "code",
   "execution_count": null,
   "metadata": {},
   "outputs": [],
   "source": [
    "lrPath = \".div2k/images/DIV2K_train_LR_bicubic/X4/0022x4.png\"\n",
    "hrPath = \"images/HighRes/0022EDSR16.png\"\n",
    "resolve_and_save(lrPath, hrPath)"
   ]
  },
  {
   "cell_type": "code",
   "execution_count": null,
   "metadata": {},
   "outputs": [],
   "source": []
  }
 ],
 "metadata": {
  "kernelspec": {
   "display_name": "tfcpu",
   "language": "python",
   "name": "tfcpu"
  },
  "language_info": {
   "codemirror_mode": {
    "name": "ipython",
    "version": 3
   },
   "file_extension": ".py",
   "mimetype": "text/x-python",
   "name": "python",
   "nbconvert_exporter": "python",
   "pygments_lexer": "ipython3",
   "version": "3.7.9"
  }
 },
 "nbformat": 4,
 "nbformat_minor": 4
}
